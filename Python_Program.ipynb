{
  "nbformat": 4,
  "nbformat_minor": 0,
  "metadata": {
    "colab": {
      "name": "Python_Program.ipynb",
      "provenance": [],
      "authorship_tag": "ABX9TyOi7kDntkUiwZ03BBPG30X1",
      "include_colab_link": true
    },
    "kernelspec": {
      "name": "python3",
      "display_name": "Python 3"
    }
  },
  "cells": [
    {
      "cell_type": "markdown",
      "metadata": {
        "id": "view-in-github",
        "colab_type": "text"
      },
      "source": [
        "<a href=\"https://colab.research.google.com/github/nachi0106/ML-LAB-7th-Bsec-CSE/blob/master/Python_Program.ipynb\" target=\"_parent\"><img src=\"https://colab.research.google.com/assets/colab-badge.svg\" alt=\"Open In Colab\"/></a>"
      ]
    },
    {
      "cell_type": "markdown",
      "metadata": {
        "id": "XhqUzrkmqxeL",
        "colab_type": "text"
      },
      "source": [
        "# **Write a Python program which accepts the user's first and last name and print them in reverse order with a space between them**"
      ]
    },
    {
      "cell_type": "code",
      "metadata": {
        "id": "YmvIaCH7q4aK",
        "colab_type": "code",
        "colab": {
          "base_uri": "https://localhost:8080/",
          "height": 67
        },
        "outputId": "7df5616a-7689-4bc0-ae1e-1e771efb73bf"
      },
      "source": [
        "fname = input(\"Input your First Name : \")\n",
        "lname = input(\"Input your Last Name : \")\n",
        "print (\"\" + lname + \" \" + fname)"
      ],
      "execution_count": 1,
      "outputs": [
        {
          "output_type": "stream",
          "text": [
            "Input your First Name : Nachiketh\n",
            "Input your Last Name : Bhat\n",
            "Bhat Nachiketh\n"
          ],
          "name": "stdout"
        }
      ]
    },
    {
      "cell_type": "markdown",
      "metadata": {
        "id": "dDKpH6W5rHWf",
        "colab_type": "text"
      },
      "source": [
        "# **Write a Python program to calculate number of days between two dates.**"
      ]
    },
    {
      "cell_type": "code",
      "metadata": {
        "id": "dtpo28eKrMoC",
        "colab_type": "code",
        "colab": {
          "base_uri": "https://localhost:8080/",
          "height": 134
        },
        "outputId": "421524f7-f212-4a85-82b1-2f745bf0a68e"
      },
      "source": [
        "from datetime import date\n",
        "y1=int(input(\"enter year1: \"))\n",
        "m1=int(input(\"enter month1: \"))\n",
        "d1=int(input(\"enter date1: \"))\n",
        "y2=int(input(\"enter year2: \"))\n",
        "m2=int(input(\"enter month2: \"))\n",
        "d2=int(input(\"enter date2: \"))\n",
        "f_date = date(y1, m1, d1)\n",
        "l_date = date(y2, m2, d2)\n",
        "delta = l_date - f_date\n",
        "print(delta.days)"
      ],
      "execution_count": 2,
      "outputs": [
        {
          "output_type": "stream",
          "text": [
            "enter year1: 2019\n",
            "enter month1: 2\n",
            "enter date1: 21\n",
            "enter year2: 2020\n",
            "enter month2: 3\n",
            "enter date2: 26\n",
            "399\n"
          ],
          "name": "stdout"
        }
      ]
    },
    {
      "cell_type": "markdown",
      "metadata": {
        "id": "5nt_IMoXrbgQ",
        "colab_type": "text"
      },
      "source": [
        "# **Write a Python program to test whether a passed letter is a vowel or not**"
      ]
    },
    {
      "cell_type": "code",
      "metadata": {
        "id": "0c27nLxBrfmD",
        "colab_type": "code",
        "colab": {
          "base_uri": "https://localhost:8080/",
          "height": 50
        },
        "outputId": "a5a6a598-98ba-4fa8-d526-d153d3f94a58"
      },
      "source": [
        "def is_vowel(char):\n",
        "    all_vowels = 'aeiou'\n",
        "    return char in all_vowels\n",
        "ch=input(\"enter character: \")\n",
        "print(is_vowel(ch))"
      ],
      "execution_count": 3,
      "outputs": [
        {
          "output_type": "stream",
          "text": [
            "enter character: e\n",
            "True\n"
          ],
          "name": "stdout"
        }
      ]
    },
    {
      "cell_type": "markdown",
      "metadata": {
        "id": "YOSLYS4_rmfd",
        "colab_type": "text"
      },
      "source": [
        "# **Write a Python program to sum of three given integers. However, if two values are equal sum will be zero.**"
      ]
    },
    {
      "cell_type": "code",
      "metadata": {
        "id": "R93UxZtxrrhY",
        "colab_type": "code",
        "colab": {
          "base_uri": "https://localhost:8080/",
          "height": 84
        },
        "outputId": "ec4b7f4c-8b68-4830-861e-bd12d468aea2"
      },
      "source": [
        "def sum(x, y, z):\n",
        "    if x == y or y == z or x==z:\n",
        "        sum = 0\n",
        "    else:\n",
        "        sum = x + y + z\n",
        "    return sum\n",
        "x=int(input(\"enter 1st num : \"))\n",
        "y=int(input(\"enter 2nd num : \"))\n",
        "z=int(input(\"enter 3rd num : \"))\n",
        "print(sum(x, y, z))"
      ],
      "execution_count": 4,
      "outputs": [
        {
          "output_type": "stream",
          "text": [
            "enter 1st num : 5\n",
            "enter 2nd num : 3\n",
            "enter 3rd num : 5\n",
            "0\n"
          ],
          "name": "stdout"
        }
      ]
    },
    {
      "cell_type": "markdown",
      "metadata": {
        "id": "R1jcvNO9ry9n",
        "colab_type": "text"
      },
      "source": [
        "# **Write a Python program to count the number of characters (character frequency) in a string.**"
      ]
    },
    {
      "cell_type": "code",
      "metadata": {
        "id": "HdamjrtUr3VZ",
        "colab_type": "code",
        "colab": {
          "base_uri": "https://localhost:8080/",
          "height": 50
        },
        "outputId": "e13d2a4c-1d85-48bf-afd6-20500dc8cf17"
      },
      "source": [
        "def char_frequency(str1):\n",
        "    dict = {}\n",
        "    for n in str1:\n",
        "        keys = dict.keys()\n",
        "        if n in keys:\n",
        "            dict[n] += 1\n",
        "        else:\n",
        "            dict[n] = 1\n",
        "    return dict\n",
        "ch=input(\"enter string : \")\n",
        "print(char_frequency(ch))"
      ],
      "execution_count": 5,
      "outputs": [
        {
          "output_type": "stream",
          "text": [
            "enter string : pythonprogram\n",
            "{'p': 2, 'y': 1, 't': 1, 'h': 1, 'o': 2, 'n': 1, 'r': 2, 'g': 1, 'a': 1, 'm': 1}\n"
          ],
          "name": "stdout"
        }
      ]
    }
  ]
}